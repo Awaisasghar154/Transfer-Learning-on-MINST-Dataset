{
 "cells": [
  {
   "cell_type": "markdown",
   "metadata": {},
   "source": [
    "### Transfer Learning using MNIST data in jupyter notebook"
   ]
  },
  {
   "cell_type": "code",
   "execution_count": 1,
   "metadata": {
    "id": "-hILwCITVJtV"
   },
   "outputs": [],
   "source": [
    "import tensorflow as tf\n",
    "from tensorflow.keras.layers import Dense, Conv2D, Flatten, MaxPooling2D,Dropout,Activation\n",
    "from tensorflow.keras.models import Sequential\n",
    "from tensorflow.keras.datasets import mnist\n",
    "from tensorflow.keras import backend as k"
   ]
  },
  {
   "cell_type": "code",
   "execution_count": 2,
   "metadata": {
    "id": "zdrMGCjHYba5"
   },
   "outputs": [],
   "source": [
    "num_classes=5\n",
    "pool_size=2\n",
    "kernel_size=3\n",
    "epochs=5"
   ]
  },
  {
   "cell_type": "code",
   "execution_count": 3,
   "metadata": {
    "id": "G4H69_-mb5HK"
   },
   "outputs": [],
   "source": [
    "if k.image_data_format=='channels_first':\n",
    "  input_shape=(1,28,28)\n",
    "else:\n",
    "  input_shape=(28,28,1)"
   ]
  },
  {
   "cell_type": "code",
   "execution_count": 4,
   "metadata": {
    "id": "3KGjD1xscEp2"
   },
   "outputs": [],
   "source": [
    "def model_train(model,train,test,num_classes):\n",
    "  x_train=train[0].reshape((train[0].shape[0],)+input_shape)\n",
    "  x_test=test[0].reshape((test[0].shape[0],)+input_shape)\n",
    "\n",
    "  x_train=x_train.astype('float32')\n",
    "  x_test=x_test.astype('float32')\n",
    "\n",
    "  x_train /= 255\n",
    "  x_test /= 255\n",
    "\n",
    "  # convert class vectors to binary class matrices\n",
    "  y_train=tf.keras.utils.to_categorical(train[1],num_classes)\n",
    "  y_test=tf.keras.utils.to_categorical(test[1],num_classes)\n",
    "\n",
    "  model.compile(loss='categorical_crossentropy',metrics=['accuracy'],optimizer='adadelta')\n",
    "\n",
    "  model.fit(x_train,y_train,\n",
    "            epochs=4,\n",
    "            verbose=1,\n",
    "            validation_data=(x_test,y_test)\n",
    "            )\n",
    "  \n",
    "  score=model.evaluate(x_test,y_test,verbose=0)\n",
    "\n",
    "  \n",
    "\n",
    "\n"
   ]
  },
  {
   "cell_type": "code",
   "execution_count": 5,
   "metadata": {
    "id": "fLsEhnGmjgg7"
   },
   "outputs": [],
   "source": [
    "(x_train,y_train),(x_test,y_test)=mnist.load_data()\n",
    "\n",
    "x_train_lt5=x_train[y_train<5]\n",
    "y_train_lt5=y_train[y_train<5]\n",
    "x_test_lt5 = x_test[y_test < 5]\n",
    "y_test_lt5 = y_test[y_test < 5]\n",
    "\n",
    "\n",
    "x_train_gte5=x_train[y_train>=5]\n",
    "y_train_gte5=y_train[y_train>=5] -5\n",
    "x_test_gte5 = x_test[y_test >= 5]\n",
    "y_test_gte5 = y_test[y_test >= 5] -5"
   ]
  },
  {
   "cell_type": "code",
   "execution_count": 6,
   "metadata": {
    "id": "prjGFBZbkqfL"
   },
   "outputs": [],
   "source": [
    "feature_layers=[\n",
    "                \n",
    "                Conv2D(32,kernel_size,input_shape=input_shape),\n",
    "                Activation('relu'),\n",
    "                Conv2D(32,kernel_size),\n",
    "                Activation('relu'),\n",
    "                MaxPooling2D(pool_size=pool_size),\n",
    "                Dropout(0.25),\n",
    "                Flatten()\n",
    "]"
   ]
  },
  {
   "cell_type": "code",
   "execution_count": 7,
   "metadata": {
    "id": "tdtK-Y4iqmGe"
   },
   "outputs": [],
   "source": [
    "classification_layer=[\n",
    "                      \n",
    "                      Dense(128),\n",
    "                      Activation('relu'),\n",
    "                      Dropout(0.4),\n",
    "                      Dense(num_classes),\n",
    "                      Activation('softmax')\n",
    "\n",
    "]"
   ]
  },
  {
   "cell_type": "code",
   "execution_count": 8,
   "metadata": {
    "id": "yj5wcxZlrb37"
   },
   "outputs": [],
   "source": [
    "model=Sequential(feature_layers+classification_layer)"
   ]
  },
  {
   "cell_type": "code",
   "execution_count": 9,
   "metadata": {
    "colab": {
     "base_uri": "https://localhost:8080/"
    },
    "id": "FdyXUjmtrj08",
    "outputId": "fed1bc91-0f0b-47ee-9bd0-7bbd33884193"
   },
   "outputs": [
    {
     "name": "stdout",
     "output_type": "stream",
     "text": [
      "Model: \"sequential\"\n",
      "_________________________________________________________________\n",
      " Layer (type)                Output Shape              Param #   \n",
      "=================================================================\n",
      " conv2d (Conv2D)             (None, 26, 26, 32)        320       \n",
      "                                                                 \n",
      " activation (Activation)     (None, 26, 26, 32)        0         \n",
      "                                                                 \n",
      " conv2d_1 (Conv2D)           (None, 24, 24, 32)        9248      \n",
      "                                                                 \n",
      " activation_1 (Activation)   (None, 24, 24, 32)        0         \n",
      "                                                                 \n",
      " max_pooling2d (MaxPooling2D  (None, 12, 12, 32)       0         \n",
      " )                                                               \n",
      "                                                                 \n",
      " dropout (Dropout)           (None, 12, 12, 32)        0         \n",
      "                                                                 \n",
      " flatten (Flatten)           (None, 4608)              0         \n",
      "                                                                 \n",
      " dense (Dense)               (None, 128)               589952    \n",
      "                                                                 \n",
      " activation_2 (Activation)   (None, 128)               0         \n",
      "                                                                 \n",
      " dropout_1 (Dropout)         (None, 128)               0         \n",
      "                                                                 \n",
      " dense_1 (Dense)             (None, 5)                 645       \n",
      "                                                                 \n",
      " activation_3 (Activation)   (None, 5)                 0         \n",
      "                                                                 \n",
      "=================================================================\n",
      "Total params: 600,165\n",
      "Trainable params: 600,165\n",
      "Non-trainable params: 0\n",
      "_________________________________________________________________\n"
     ]
    }
   ],
   "source": [
    "model.summary()"
   ]
  },
  {
   "cell_type": "code",
   "execution_count": 10,
   "metadata": {
    "colab": {
     "base_uri": "https://localhost:8080/"
    },
    "id": "RJZ_MjFYrkaD",
    "outputId": "a17f958b-c50c-4222-f29b-08fe56090661"
   },
   "outputs": [
    {
     "name": "stdout",
     "output_type": "stream",
     "text": [
      "Epoch 1/4\n",
      "957/957 [==============================] - 32s 33ms/step - loss: 1.5709 - accuracy: 0.3647 - val_loss: 1.5015 - val_accuracy: 0.7649\n",
      "Epoch 2/4\n",
      "957/957 [==============================] - 30s 32ms/step - loss: 1.4475 - accuracy: 0.6374 - val_loss: 1.3509 - val_accuracy: 0.8529\n",
      "Epoch 3/4\n",
      "957/957 [==============================] - 31s 32ms/step - loss: 1.2827 - accuracy: 0.7628 - val_loss: 1.1370 - val_accuracy: 0.8887\n",
      "Epoch 4/4\n",
      "957/957 [==============================] - 31s 33ms/step - loss: 1.0609 - accuracy: 0.8263 - val_loss: 0.8762 - val_accuracy: 0.9148\n"
     ]
    }
   ],
   "source": [
    "model_train(model,(x_train_lt5,y_train_lt5),(x_test_lt5,y_test_lt5),num_classes)"
   ]
  },
  {
   "cell_type": "code",
   "execution_count": 32,
   "metadata": {
    "id": "JMNWAFG3sSqM"
   },
   "outputs": [],
   "source": [
    "# Freeze only the feature layers\n",
    "for l in feature_layers:\n",
    "    l.trainable = False"
   ]
  },
  {
   "cell_type": "code",
   "execution_count": 33,
   "metadata": {
    "colab": {
     "base_uri": "https://localhost:8080/"
    },
    "id": "nmEcAEXOtut3",
    "outputId": "52550bcf-a05e-4399-8224-a77a8a216762"
   },
   "outputs": [
    {
     "name": "stdout",
     "output_type": "stream",
     "text": [
      "Epoch 1/4\n",
      "919/919 [==============================] - 6s 6ms/step - loss: 1.5508 - accuracy: 0.3331 - val_loss: 1.4234 - val_accuracy: 0.4211\n",
      "Epoch 2/4\n",
      "919/919 [==============================] - 5s 5ms/step - loss: 1.3734 - accuracy: 0.4571 - val_loss: 1.2544 - val_accuracy: 0.5894\n",
      "Epoch 3/4\n",
      "919/919 [==============================] - 5s 5ms/step - loss: 1.2305 - accuracy: 0.5784 - val_loss: 1.1114 - val_accuracy: 0.7079\n",
      "Epoch 4/4\n",
      "919/919 [==============================] - 5s 6ms/step - loss: 1.1019 - accuracy: 0.6759 - val_loss: 0.9905 - val_accuracy: 0.7760\n"
     ]
    }
   ],
   "source": [
    "model_train(model,(x_train_gte5,y_train_gte5),(x_test_gte5,y_test_gte5),num_classes)"
   ]
  },
  {
   "cell_type": "code",
   "execution_count": null,
   "metadata": {
    "id": "v9rOtdzdt5sv"
   },
   "outputs": [],
   "source": []
  }
 ],
 "metadata": {
  "accelerator": "GPU",
  "colab": {
   "authorship_tag": "ABX9TyOwx3SkX6tF6rmX1gOTLaIG",
   "include_colab_link": true,
   "name": "Transfer_learning on MNIST dataset",
   "provenance": []
  },
  "kernelspec": {
   "display_name": "Python 3",
   "language": "python",
   "name": "python3"
  },
  "language_info": {
   "codemirror_mode": {
    "name": "ipython",
    "version": 3
   },
   "file_extension": ".py",
   "mimetype": "text/x-python",
   "name": "python",
   "nbconvert_exporter": "python",
   "pygments_lexer": "ipython3",
   "version": "3.8.5"
  }
 },
 "nbformat": 4,
 "nbformat_minor": 1
}
